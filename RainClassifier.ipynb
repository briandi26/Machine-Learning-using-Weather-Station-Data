{
 "cells": [
  {
   "cell_type": "code",
   "execution_count": 1,
   "metadata": {
    "collapsed": true
   },
   "outputs": [],
   "source": [
    "import numpy as np\n",
    "import scipy as sp\n",
    "import pandas as pd\n",
    "import matplotlib.pyplot as plt\n",
    "import seaborn as sns\n",
    "import warnings\n",
    "warnings.simplefilter('ignore')"
   ]
  },
  {
   "cell_type": "code",
   "execution_count": 35,
   "metadata": {
    "collapsed": true
   },
   "outputs": [],
   "source": [
    "%matplotlib inline"
   ]
  },
  {
   "cell_type": "code",
   "execution_count": 2,
   "metadata": {
    "collapsed": true
   },
   "outputs": [],
   "source": [
    "from sklearn.neighbors import KNeighborsClassifier\n",
    "from sklearn.naive_bayes import GaussianNB\n",
    "from sklearn.linear_model import LogisticRegression\n",
    "from sklearn.svm import SVC\n",
    "from sklearn.tree import DecisionTreeClassifier\n",
    "from sklearn.ensemble import RandomForestClassifier\n",
    "from sklearn.neural_network import MLPClassifier\n",
    "from sklearn.preprocessing import LabelEncoder\n",
    "from sklearn.model_selection import train_test_split\n",
    "from sklearn.metrics import classification_report, accuracy_score\n",
    "\n",
    "from sklearn.preprocessing import StandardScaler\n",
    "from sklearn.decomposition import PCA"
   ]
  },
  {
   "cell_type": "code",
   "execution_count": 3,
   "metadata": {
    "collapsed": false
   },
   "outputs": [
    {
     "data": {
      "text/html": [
       "<div>\n",
       "<style scoped>\n",
       "    .dataframe tbody tr th:only-of-type {\n",
       "        vertical-align: middle;\n",
       "    }\n",
       "\n",
       "    .dataframe tbody tr th {\n",
       "        vertical-align: top;\n",
       "    }\n",
       "\n",
       "    .dataframe thead th {\n",
       "        text-align: right;\n",
       "    }\n",
       "</style>\n",
       "<table border=\"1\" class=\"dataframe\">\n",
       "  <thead>\n",
       "    <tr style=\"text-align: right;\">\n",
       "      <th></th>\n",
       "      <th>Day</th>\n",
       "      <th>Month</th>\n",
       "      <th>Year</th>\n",
       "      <th>minTemperature</th>\n",
       "      <th>maxTemperature</th>\n",
       "      <th>Temperature</th>\n",
       "      <th>Humidity</th>\n",
       "      <th>Rainfall</th>\n",
       "      <th>WindSpeed</th>\n",
       "      <th>WindDirection</th>\n",
       "    </tr>\n",
       "  </thead>\n",
       "  <tbody>\n",
       "    <tr>\n",
       "      <th>0</th>\n",
       "      <td>1</td>\n",
       "      <td>1</td>\n",
       "      <td>1988</td>\n",
       "      <td>24.2</td>\n",
       "      <td>30.8</td>\n",
       "      <td>26.9</td>\n",
       "      <td>85.0</td>\n",
       "      <td>9.0</td>\n",
       "      <td>4</td>\n",
       "      <td>360.0</td>\n",
       "    </tr>\n",
       "    <tr>\n",
       "      <th>1</th>\n",
       "      <td>2</td>\n",
       "      <td>1</td>\n",
       "      <td>1988</td>\n",
       "      <td>24.6</td>\n",
       "      <td>30.4</td>\n",
       "      <td>26.7</td>\n",
       "      <td>85.0</td>\n",
       "      <td>0.0</td>\n",
       "      <td>4</td>\n",
       "      <td>315.0</td>\n",
       "    </tr>\n",
       "    <tr>\n",
       "      <th>2</th>\n",
       "      <td>3</td>\n",
       "      <td>1</td>\n",
       "      <td>1988</td>\n",
       "      <td>23.0</td>\n",
       "      <td>32.4</td>\n",
       "      <td>27.4</td>\n",
       "      <td>81.0</td>\n",
       "      <td>0.0</td>\n",
       "      <td>9</td>\n",
       "      <td>315.0</td>\n",
       "    </tr>\n",
       "    <tr>\n",
       "      <th>3</th>\n",
       "      <td>4</td>\n",
       "      <td>1</td>\n",
       "      <td>1988</td>\n",
       "      <td>24.3</td>\n",
       "      <td>32.2</td>\n",
       "      <td>27.6</td>\n",
       "      <td>81.0</td>\n",
       "      <td>2.0</td>\n",
       "      <td>6</td>\n",
       "      <td>360.0</td>\n",
       "    </tr>\n",
       "    <tr>\n",
       "      <th>4</th>\n",
       "      <td>5</td>\n",
       "      <td>1</td>\n",
       "      <td>1988</td>\n",
       "      <td>24.3</td>\n",
       "      <td>31.2</td>\n",
       "      <td>26.7</td>\n",
       "      <td>86.0</td>\n",
       "      <td>6.0</td>\n",
       "      <td>6</td>\n",
       "      <td>315.0</td>\n",
       "    </tr>\n",
       "  </tbody>\n",
       "</table>\n",
       "</div>"
      ],
      "text/plain": [
       "   Day  Month  Year  minTemperature  maxTemperature  Temperature  Humidity  \\\n",
       "0    1      1  1988            24.2            30.8         26.9      85.0   \n",
       "1    2      1  1988            24.6            30.4         26.7      85.0   \n",
       "2    3      1  1988            23.0            32.4         27.4      81.0   \n",
       "3    4      1  1988            24.3            32.2         27.6      81.0   \n",
       "4    5      1  1988            24.3            31.2         26.7      86.0   \n",
       "\n",
       "   Rainfall  WindSpeed  WindDirection  \n",
       "0       9.0          4          360.0  \n",
       "1       0.0          4          315.0  \n",
       "2       0.0          9          315.0  \n",
       "3       2.0          6          360.0  \n",
       "4       6.0          6          315.0  "
      ]
     },
     "execution_count": 3,
     "metadata": {},
     "output_type": "execute_result"
    }
   ],
   "source": [
    "df = pd.read_excel('WeatherStationData_StasiunSoekarnoHatta.xlsx')\n",
    "df.head()"
   ]
  },
  {
   "cell_type": "code",
   "execution_count": 8,
   "metadata": {
    "collapsed": false
   },
   "outputs": [
    {
     "data": {
      "text/plain": [
       "Day                 int64\n",
       "Month               int64\n",
       "Year                int64\n",
       "minTemperature    float64\n",
       "maxTemperature    float64\n",
       "Temperature       float64\n",
       "Humidity          float64\n",
       "Rainfall          float64\n",
       "WindSpeed           int64\n",
       "WindDirection     float64\n",
       "dtype: object"
      ]
     },
     "execution_count": 8,
     "metadata": {},
     "output_type": "execute_result"
    }
   ],
   "source": [
    "df.dtypes"
   ]
  },
  {
   "cell_type": "code",
   "execution_count": 19,
   "metadata": {
    "collapsed": false
   },
   "outputs": [],
   "source": [
    "df['Rainfall'] = df['Rainfall'].replace(8888, np.nan)    # 8888 means the missing values"
   ]
  },
  {
   "cell_type": "code",
   "execution_count": 30,
   "metadata": {
    "collapsed": false
   },
   "outputs": [],
   "source": [
    "df = df.interpolate(method='akima')     # Interpolate the missing values"
   ]
  },
  {
   "cell_type": "code",
   "execution_count": 42,
   "metadata": {
    "collapsed": false
   },
   "outputs": [
    {
     "data": {
      "text/html": [
       "<div>\n",
       "<style scoped>\n",
       "    .dataframe tbody tr th:only-of-type {\n",
       "        vertical-align: middle;\n",
       "    }\n",
       "\n",
       "    .dataframe tbody tr th {\n",
       "        vertical-align: top;\n",
       "    }\n",
       "\n",
       "    .dataframe thead th {\n",
       "        text-align: right;\n",
       "    }\n",
       "</style>\n",
       "<table border=\"1\" class=\"dataframe\">\n",
       "  <thead>\n",
       "    <tr style=\"text-align: right;\">\n",
       "      <th></th>\n",
       "      <th>Day</th>\n",
       "      <th>Month</th>\n",
       "      <th>Year</th>\n",
       "      <th>minTemperature</th>\n",
       "      <th>maxTemperature</th>\n",
       "      <th>Temperature</th>\n",
       "      <th>Humidity</th>\n",
       "      <th>Rainfall</th>\n",
       "      <th>WindSpeed</th>\n",
       "      <th>WindDirection</th>\n",
       "    </tr>\n",
       "  </thead>\n",
       "  <tbody>\n",
       "  </tbody>\n",
       "</table>\n",
       "</div>"
      ],
      "text/plain": [
       "Empty DataFrame\n",
       "Columns: [Day, Month, Year, minTemperature, maxTemperature, Temperature, Humidity, Rainfall, WindSpeed, WindDirection]\n",
       "Index: []"
      ]
     },
     "execution_count": 42,
     "metadata": {},
     "output_type": "execute_result"
    }
   ],
   "source": [
    "df[df['Rainfall'].isnull()]     # Checking the Rainfall feature for the missing values"
   ]
  },
  {
   "cell_type": "code",
   "execution_count": 45,
   "metadata": {
    "collapsed": true
   },
   "outputs": [],
   "source": [
    "rainClasses_arr = np.array([])\n",
    "for i in range(0,df['Rainfall'].values.size):\n",
    "    if (df['Rainfall'].values[i] > 5):\n",
    "        rainClasses_arr = np.append(rainClasses_arr, 'rain')\n",
    "    else:\n",
    "        rainClasses_arr = np.append(rainClasses_arr, 'no rain')"
   ]
  },
  {
   "cell_type": "code",
   "execution_count": 46,
   "metadata": {
    "collapsed": false
   },
   "outputs": [
    {
     "data": {
      "text/plain": [
       "array(['rain', 'no rain', 'no rain', ..., 'no rain', 'no rain', 'no rain'],\n",
       "      dtype='<U32')"
      ]
     },
     "execution_count": 46,
     "metadata": {},
     "output_type": "execute_result"
    }
   ],
   "source": [
    "rainClasses_arr"
   ]
  },
  {
   "cell_type": "code",
   "execution_count": 49,
   "metadata": {
    "collapsed": false
   },
   "outputs": [
    {
     "data": {
      "text/plain": [
       "(4749, 11)"
      ]
     },
     "execution_count": 49,
     "metadata": {},
     "output_type": "execute_result"
    }
   ],
   "source": [
    "Weather_new_data = np.concatenate((df.values, rainClasses_arr.reshape(df.shape[0],1)), axis=1) # add features label array\n",
    "Weather_new_data.shape"
   ]
  },
  {
   "cell_type": "code",
   "execution_count": 50,
   "metadata": {
    "collapsed": false
   },
   "outputs": [
    {
     "data": {
      "text/plain": [
       "array(['Day', 'Month', 'Year', 'minTemperature', 'maxTemperature',\n",
       "       'Temperature', 'Humidity', 'Rainfall', 'WindSpeed',\n",
       "       'WindDirection', 'RainClass'], dtype='<U64')"
      ]
     },
     "execution_count": 50,
     "metadata": {},
     "output_type": "execute_result"
    }
   ],
   "source": [
    "Weather_new_features = np.append(np.asarray(df.columns, dtype='str'), 'RainClass')\n",
    "Weather_new_features"
   ]
  },
  {
   "cell_type": "code",
   "execution_count": 52,
   "metadata": {
    "collapsed": false
   },
   "outputs": [
    {
     "data": {
      "text/html": [
       "<div>\n",
       "<style scoped>\n",
       "    .dataframe tbody tr th:only-of-type {\n",
       "        vertical-align: middle;\n",
       "    }\n",
       "\n",
       "    .dataframe tbody tr th {\n",
       "        vertical-align: top;\n",
       "    }\n",
       "\n",
       "    .dataframe thead th {\n",
       "        text-align: right;\n",
       "    }\n",
       "</style>\n",
       "<table border=\"1\" class=\"dataframe\">\n",
       "  <thead>\n",
       "    <tr style=\"text-align: right;\">\n",
       "      <th></th>\n",
       "      <th>Day</th>\n",
       "      <th>Month</th>\n",
       "      <th>Year</th>\n",
       "      <th>minTemperature</th>\n",
       "      <th>maxTemperature</th>\n",
       "      <th>Temperature</th>\n",
       "      <th>Humidity</th>\n",
       "      <th>WindSpeed</th>\n",
       "      <th>WindDirection</th>\n",
       "      <th>RainClass</th>\n",
       "    </tr>\n",
       "  </thead>\n",
       "  <tbody>\n",
       "    <tr>\n",
       "      <th>0</th>\n",
       "      <td>1.0</td>\n",
       "      <td>1.0</td>\n",
       "      <td>1988.0</td>\n",
       "      <td>24.2</td>\n",
       "      <td>30.8</td>\n",
       "      <td>26.9</td>\n",
       "      <td>85.0</td>\n",
       "      <td>4.0</td>\n",
       "      <td>360.0</td>\n",
       "      <td>rain</td>\n",
       "    </tr>\n",
       "    <tr>\n",
       "      <th>1</th>\n",
       "      <td>2.0</td>\n",
       "      <td>1.0</td>\n",
       "      <td>1988.0</td>\n",
       "      <td>24.6</td>\n",
       "      <td>30.4</td>\n",
       "      <td>26.7</td>\n",
       "      <td>85.0</td>\n",
       "      <td>4.0</td>\n",
       "      <td>315.0</td>\n",
       "      <td>no rain</td>\n",
       "    </tr>\n",
       "    <tr>\n",
       "      <th>2</th>\n",
       "      <td>3.0</td>\n",
       "      <td>1.0</td>\n",
       "      <td>1988.0</td>\n",
       "      <td>23.0</td>\n",
       "      <td>32.4</td>\n",
       "      <td>27.4</td>\n",
       "      <td>81.0</td>\n",
       "      <td>9.0</td>\n",
       "      <td>315.0</td>\n",
       "      <td>no rain</td>\n",
       "    </tr>\n",
       "    <tr>\n",
       "      <th>3</th>\n",
       "      <td>4.0</td>\n",
       "      <td>1.0</td>\n",
       "      <td>1988.0</td>\n",
       "      <td>24.3</td>\n",
       "      <td>32.2</td>\n",
       "      <td>27.6</td>\n",
       "      <td>81.0</td>\n",
       "      <td>6.0</td>\n",
       "      <td>360.0</td>\n",
       "      <td>no rain</td>\n",
       "    </tr>\n",
       "    <tr>\n",
       "      <th>4</th>\n",
       "      <td>5.0</td>\n",
       "      <td>1.0</td>\n",
       "      <td>1988.0</td>\n",
       "      <td>24.3</td>\n",
       "      <td>31.2</td>\n",
       "      <td>26.7</td>\n",
       "      <td>86.0</td>\n",
       "      <td>6.0</td>\n",
       "      <td>315.0</td>\n",
       "      <td>rain</td>\n",
       "    </tr>\n",
       "  </tbody>\n",
       "</table>\n",
       "</div>"
      ],
      "text/plain": [
       "   Day Month    Year minTemperature maxTemperature Temperature Humidity  \\\n",
       "0  1.0   1.0  1988.0           24.2           30.8        26.9     85.0   \n",
       "1  2.0   1.0  1988.0           24.6           30.4        26.7     85.0   \n",
       "2  3.0   1.0  1988.0           23.0           32.4        27.4     81.0   \n",
       "3  4.0   1.0  1988.0           24.3           32.2        27.6     81.0   \n",
       "4  5.0   1.0  1988.0           24.3           31.2        26.7     86.0   \n",
       "\n",
       "  WindSpeed WindDirection RainClass  \n",
       "0       4.0         360.0      rain  \n",
       "1       4.0         315.0   no rain  \n",
       "2       9.0         315.0   no rain  \n",
       "3       6.0         360.0   no rain  \n",
       "4       6.0         315.0      rain  "
      ]
     },
     "execution_count": 52,
     "metadata": {},
     "output_type": "execute_result"
    }
   ],
   "source": [
    "new_Weather_df = pd.DataFrame(Weather_new_data, columns=Weather_new_features)\n",
    "new_Weather_df = new_Weather_df.drop(columns=['Rainfall'])\n",
    "new_Weather_df.head()"
   ]
  },
  {
   "cell_type": "code",
   "execution_count": 56,
   "metadata": {
    "collapsed": false
   },
   "outputs": [
    {
     "data": {
      "text/plain": [
       "Day               float64\n",
       "Month             float64\n",
       "Year              float64\n",
       "minTemperature    float64\n",
       "maxTemperature    float64\n",
       "Temperature       float64\n",
       "Humidity          float64\n",
       "WindSpeed         float64\n",
       "WindDirection     float64\n",
       "RainClass          object\n",
       "dtype: object"
      ]
     },
     "execution_count": 56,
     "metadata": {},
     "output_type": "execute_result"
    }
   ],
   "source": [
    "new_Weather_df[new_Weather_df.columns[0:9]] = new_Weather_df[new_Weather_df.columns[0:9]].astype('float64')\n",
    "new_Weather_df.dtypes"
   ]
  },
  {
   "cell_type": "code",
   "execution_count": 59,
   "metadata": {
    "collapsed": false
   },
   "outputs": [
    {
     "data": {
      "text/plain": [
       "no rain    3854\n",
       "rain        895\n",
       "Name: RainClass, dtype: int64"
      ]
     },
     "execution_count": 59,
     "metadata": {},
     "output_type": "execute_result"
    }
   ],
   "source": [
    "new_Weather_df['RainClass'].value_counts()"
   ]
  },
  {
   "cell_type": "code",
   "execution_count": 60,
   "metadata": {
    "collapsed": false
   },
   "outputs": [
    {
     "data": {
      "text/plain": [
       "array([1, 0, 0, ..., 0, 0, 0])"
      ]
     },
     "execution_count": 60,
     "metadata": {},
     "output_type": "execute_result"
    }
   ],
   "source": [
    "# encode the labels, converting them from strings to integers\n",
    "le = LabelEncoder()\n",
    "labels = le.fit_transform(new_Weather_df['RainClass'].values)\n",
    "labels"
   ]
  },
  {
   "cell_type": "code",
   "execution_count": 66,
   "metadata": {
    "collapsed": true
   },
   "outputs": [],
   "source": [
    "# perform a training testing split, using 75% of the data for\n",
    "# training and 25% for evaluation\n",
    "(trainX, testX, trainY, testY) = train_test_split(new_Weather_df[new_Weather_df.columns[0:9]].values, labels, random_state=3, test_size=0.25)"
   ]
  },
  {
   "cell_type": "code",
   "execution_count": 68,
   "metadata": {
    "collapsed": true
   },
   "outputs": [],
   "source": [
    "# define the dictionary of models our script can use\n",
    "# the key to the dictionary is the name of the model\n",
    "# (supplied via command line argument) and the value is the model itself\n",
    "models = {\n",
    "    \"knn\": KNeighborsClassifier(n_neighbors=1),\n",
    "    \"naive_bayes\": GaussianNB(),\n",
    "    \"logit\": LogisticRegression(solver=\"lbfgs\", multi_class=\"auto\"),\n",
    "    \"svm\": SVC(kernel=\"linear\", gamma=\"auto\"),\n",
    "    \"decision_tree\": DecisionTreeClassifier(),\n",
    "    \"random_forest\": RandomForestClassifier(n_estimators=100),\n",
    "    'mlp': MLPClassifier()\n",
    "}"
   ]
  },
  {
   "cell_type": "code",
   "execution_count": 71,
   "metadata": {
    "collapsed": false
   },
   "outputs": [
    {
     "name": "stdout",
     "output_type": "stream",
     "text": [
      "[INFO] using 'knn' model\n",
      "[INFO] evaluating...\n",
      "\n",
      "Skor akurasi kemampuan model K-Neighbors dalam mengklasifikasi Hujan adalah: 0.7752525252525253\n"
     ]
    }
   ],
   "source": [
    "# train the K-Neighbors model\n",
    "print(\"[INFO] using '{}' model\".format(\"knn\"))\n",
    "model = models[\"knn\"]\n",
    "model.fit(trainX, trainY)\n",
    "# make predictions on our data and show a accuracy score\n",
    "print(\"[INFO] evaluating...\")\n",
    "predictions = model.predict(testX)\n",
    "KNN_accur = accuracy_score(testY, predictions)\n",
    "print('\\nSkor akurasi kemampuan model K-Neighbors dalam mengklasifikasi Hujan adalah:', KNN_accur)"
   ]
  },
  {
   "cell_type": "code",
   "execution_count": 72,
   "metadata": {
    "collapsed": false
   },
   "outputs": [
    {
     "name": "stdout",
     "output_type": "stream",
     "text": [
      "[INFO] using 'naive_bayes' model\n",
      "[INFO] evaluating...\n",
      "\n",
      "Skor akurasi kemampuan model Naive Bayes dalam mengklasifikasi Hujan adalah: 0.7920875420875421\n"
     ]
    }
   ],
   "source": [
    "# train the Naive Bayes model\n",
    "print(\"[INFO] using '{}' model\".format(\"naive_bayes\"))\n",
    "model = models[\"naive_bayes\"]\n",
    "model.fit(trainX, trainY)\n",
    "# make predictions on our data and show a accuracy score\n",
    "print(\"[INFO] evaluating...\")\n",
    "predictions = model.predict(testX)\n",
    "NB_accur = accuracy_score(testY, predictions)\n",
    "print('\\nSkor akurasi kemampuan model Naive Bayes dalam mengklasifikasi Hujan adalah:', NB_accur)"
   ]
  },
  {
   "cell_type": "code",
   "execution_count": 76,
   "metadata": {
    "collapsed": false
   },
   "outputs": [
    {
     "name": "stdout",
     "output_type": "stream",
     "text": [
      "[INFO] using 'logit' model\n",
      "[INFO] evaluating...\n",
      "\n",
      "Skor akurasi kemampuan model Logistic Regression dalam mengklasifikasi Hujan adalah: 0.8240740740740741\n"
     ]
    }
   ],
   "source": [
    "# train the Logistic Regression model\n",
    "print(\"[INFO] using '{}' model\".format(\"logit\"))\n",
    "model = models[\"logit\"]\n",
    "model.fit(trainX, trainY)\n",
    "# make predictions on our data and show a accuracy score\n",
    "print(\"[INFO] evaluating...\")\n",
    "predictions = model.predict(testX)\n",
    "Logit_accur = accuracy_score(testY, predictions)\n",
    "print('\\nSkor akurasi kemampuan model Logistic Regression dalam mengklasifikasi Hujan adalah:', Logit_accur)"
   ]
  },
  {
   "cell_type": "code",
   "execution_count": 78,
   "metadata": {
    "collapsed": false
   },
   "outputs": [
    {
     "name": "stdout",
     "output_type": "stream",
     "text": [
      "[INFO] using 'svm' model\n",
      "[INFO] evaluating...\n",
      "\n",
      "Skor akurasi kemampuan model Support Vector Machine dalam mengklasifikasi Hujan adalah: 0.8341750841750841\n"
     ]
    }
   ],
   "source": [
    "# train the Support Vector Machine model\n",
    "print(\"[INFO] using '{}' model\".format(\"svm\"))\n",
    "model = models[\"svm\"]\n",
    "model.fit(trainX, trainY)\n",
    "# make predictions on our data and show a accuracy score\n",
    "print(\"[INFO] evaluating...\")\n",
    "predictions = model.predict(testX)\n",
    "SVM_accur = accuracy_score(testY, predictions)\n",
    "print('\\nSkor akurasi kemampuan model Support Vector Machine dalam mengklasifikasi Hujan adalah:', SVM_accur)"
   ]
  },
  {
   "cell_type": "code",
   "execution_count": 79,
   "metadata": {
    "collapsed": false
   },
   "outputs": [
    {
     "name": "stdout",
     "output_type": "stream",
     "text": [
      "[INFO] using 'decision_tree' model\n",
      "[INFO] evaluating...\n",
      "\n",
      "Skor akurasi kemampuan model Decision Tree dalam mengklasifikasi Hujan adalah: 0.7651515151515151\n"
     ]
    }
   ],
   "source": [
    "# train the Decision Tree model\n",
    "print(\"[INFO] using '{}' model\".format(\"decision_tree\"))\n",
    "model = models[\"decision_tree\"]\n",
    "model.fit(trainX, trainY)\n",
    "# make predictions on our data and show a accuracy score\n",
    "print(\"[INFO] evaluating...\")\n",
    "predictions = model.predict(testX)\n",
    "DT_accur = accuracy_score(testY, predictions)\n",
    "print('\\nSkor akurasi kemampuan model Decision Tree dalam mengklasifikasi Hujan adalah:', DT_accur)"
   ]
  },
  {
   "cell_type": "code",
   "execution_count": 91,
   "metadata": {
    "collapsed": false
   },
   "outputs": [
    {
     "name": "stdout",
     "output_type": "stream",
     "text": [
      "[INFO] using 'random_forest' model\n",
      "[INFO] evaluating...\n",
      "\n",
      "Skor akurasi kemampuan model Random Forest dalam mengklasifikasi Hujan adalah: 0.8383838383838383\n"
     ]
    }
   ],
   "source": [
    "# train the Random Forest model\n",
    "print(\"[INFO] using '{}' model\".format(\"random_forest\"))\n",
    "model = models[\"random_forest\"]\n",
    "model.fit(trainX, trainY)\n",
    "# make predictions on our data and show a accuracy score\n",
    "print(\"[INFO] evaluating...\")\n",
    "predictions = model.predict(testX)\n",
    "RF_accur = accuracy_score(testY, predictions)\n",
    "print('\\nSkor akurasi kemampuan model Random Forest dalam mengklasifikasi Hujan adalah:', RF_accur)"
   ]
  },
  {
   "cell_type": "code",
   "execution_count": 101,
   "metadata": {
    "collapsed": false
   },
   "outputs": [
    {
     "name": "stdout",
     "output_type": "stream",
     "text": [
      "[INFO] using 'mlp' model\n",
      "[INFO] evaluating...\n",
      "\n",
      "Skor akurasi kemampuan model MLP dalam mengklasifikasi Hujan adalah: 0.8316498316498316\n"
     ]
    }
   ],
   "source": [
    "# train the MLP model\n",
    "print(\"[INFO] using '{}' model\".format(\"mlp\"))\n",
    "model = models[\"mlp\"]\n",
    "model.fit(trainX, trainY)\n",
    "# make predictions on our data and show a accuracy score\n",
    "print(\"[INFO] evaluating...\")\n",
    "predictions = model.predict(testX)\n",
    "MLP_accur = accuracy_score(testY, predictions)\n",
    "print('\\nSkor akurasi kemampuan model MLP dalam mengklasifikasi Hujan adalah:', MLP_accur)"
   ]
  },
  {
   "cell_type": "code",
   "execution_count": 102,
   "metadata": {
    "collapsed": false
   },
   "outputs": [
    {
     "data": {
      "text/html": [
       "<div>\n",
       "<style scoped>\n",
       "    .dataframe tbody tr th:only-of-type {\n",
       "        vertical-align: middle;\n",
       "    }\n",
       "\n",
       "    .dataframe tbody tr th {\n",
       "        vertical-align: top;\n",
       "    }\n",
       "\n",
       "    .dataframe thead th {\n",
       "        text-align: right;\n",
       "    }\n",
       "</style>\n",
       "<table border=\"1\" class=\"dataframe\">\n",
       "  <thead>\n",
       "    <tr style=\"text-align: right;\">\n",
       "      <th></th>\n",
       "      <th>Accuracy Score</th>\n",
       "    </tr>\n",
       "  </thead>\n",
       "  <tbody>\n",
       "    <tr>\n",
       "      <th>K-Neighbors</th>\n",
       "      <td>0.775253</td>\n",
       "    </tr>\n",
       "    <tr>\n",
       "      <th>Naive Bayes</th>\n",
       "      <td>0.792088</td>\n",
       "    </tr>\n",
       "    <tr>\n",
       "      <th>Logistic Regression</th>\n",
       "      <td>0.824074</td>\n",
       "    </tr>\n",
       "    <tr>\n",
       "      <th>SVM</th>\n",
       "      <td>0.834175</td>\n",
       "    </tr>\n",
       "    <tr>\n",
       "      <th>Decision Tree</th>\n",
       "      <td>0.765152</td>\n",
       "    </tr>\n",
       "    <tr>\n",
       "      <th>Random Forest</th>\n",
       "      <td>0.838384</td>\n",
       "    </tr>\n",
       "    <tr>\n",
       "      <th>MLP</th>\n",
       "      <td>0.831650</td>\n",
       "    </tr>\n",
       "  </tbody>\n",
       "</table>\n",
       "</div>"
      ],
      "text/plain": [
       "                     Accuracy Score\n",
       "K-Neighbors                0.775253\n",
       "Naive Bayes                0.792088\n",
       "Logistic Regression        0.824074\n",
       "SVM                        0.834175\n",
       "Decision Tree              0.765152\n",
       "Random Forest              0.838384\n",
       "MLP                        0.831650"
      ]
     },
     "execution_count": 102,
     "metadata": {},
     "output_type": "execute_result"
    }
   ],
   "source": [
    "score_obj = dict(zip(['Accuracy Score'], [[KNN_accur,NB_accur,Logit_accur,SVM_accur,DT_accur,RF_accur,MLP_accur]]))\n",
    "\n",
    "score_df = pd.DataFrame(score_obj, index=['K-Neighbors','Naive Bayes','Logistic Regression','SVM','Decision Tree', 'Random Forest', 'MLP'])\n",
    "score_df"
   ]
  },
  {
   "cell_type": "code",
   "execution_count": 124,
   "metadata": {
    "collapsed": false
   },
   "outputs": [
    {
     "data": {
      "text/plain": [
       "'no rain'"
      ]
     },
     "execution_count": 124,
     "metadata": {},
     "output_type": "execute_result"
    }
   ],
   "source": [
    "# 31th July 2019's Rain Predict\n",
    "\n",
    "le.classes_[model.predict(np.array([31., 7., 2019., 17., 26., 23.4, 73., 5., 300.]).reshape(1,-1))][0]"
   ]
  },
  {
   "cell_type": "code",
   "execution_count": null,
   "metadata": {
    "collapsed": true
   },
   "outputs": [],
   "source": []
  }
 ],
 "metadata": {
  "anaconda-cloud": {},
  "kernelspec": {
   "display_name": "Python [default]",
   "language": "python",
   "name": "python3"
  },
  "language_info": {
   "codemirror_mode": {
    "name": "ipython",
    "version": 3
   },
   "file_extension": ".py",
   "mimetype": "text/x-python",
   "name": "python",
   "nbconvert_exporter": "python",
   "pygments_lexer": "ipython3",
   "version": "3.5.5"
  }
 },
 "nbformat": 4,
 "nbformat_minor": 1
}
